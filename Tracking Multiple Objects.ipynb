{
 "cells": [
  {
   "cell_type": "code",
   "execution_count": 1,
   "id": "bdf1d0c5",
   "metadata": {},
   "outputs": [],
   "source": [
    "# ! pip install imutils "
   ]
  },
  {
   "cell_type": "code",
   "execution_count": 2,
   "id": "9c96a2f1",
   "metadata": {},
   "outputs": [],
   "source": [
    "from imutils.video import VideoStream\n",
    "import argparse\n",
    "import imutils                  #video transitions, rotations\n",
    "import time\n",
    "import cv2"
   ]
  },
  {
   "cell_type": "code",
   "execution_count": 14,
   "id": "ad7baadc",
   "metadata": {},
   "outputs": [],
   "source": [
    "args = {'video_name':\"football video.mp4\",'tracker':'kcf'} "
   ]
  },
  {
   "cell_type": "code",
   "execution_count": 15,
   "id": "2c94a7c3",
   "metadata": {},
   "outputs": [],
   "source": [
    "opencv_ob_track = { 'csrt': cv2.TrackerCSRT_create,\n",
    "                    'kcf': cv2.TrackerKCF_create,\n",
    "                  'boosting':cv2.TrackerBoosting_create,\n",
    "                  'mil':cv2.TrackerBoosting_create}\n",
    "\n",
    "\n",
    "# csrt = accurate but slow\n",
    "#kcf = fast and accurate....\n",
    "\n",
    "trackers = cv2.MultiTracker_create()"
   ]
  },
  {
   "cell_type": "code",
   "execution_count": 16,
   "id": "34083d9f",
   "metadata": {},
   "outputs": [],
   "source": [
    "if args['video_name'] == '':\n",
    "    print('[INFO] starting video streaming')   \n",
    "    vs = VideoStream(src=0).start()\n",
    "    time.sleep(1.0)\n",
    "    \n",
    "else:                                                   #this will start webcam to capture the video\n",
    "    vs = cv2.VideoCapture(args['video_name'])\n",
    "\n",
    "    \n",
    "while True:\n",
    "\n",
    "    frame = vs.read()\n",
    "    frame = frame[1] if args.get(\"video_name\", False) else frame\n",
    "# check to see if we have reached the end of the stream\n",
    "    if frame is None:\n",
    "        break\n",
    "# resize the frame (so we can process it faster)\n",
    "    frame = imutils.resize(frame, width=600)\n",
    "# grab the updated bounding box coordinates (if any) for each\n",
    "# object that is being tracked\n",
    "    (success, boxes) = trackers.update(frame)\n",
    "# loop over the bounding boxes and draw then on the frame\n",
    "    for box in boxes:\n",
    "        (x, y, w, h) = [int(v) for v in box]\n",
    "        cv2.rectangle(frame, (x, y), (x + w, y + h), (0, 255, 0), 2)           #(0,250,0 is denoted BGR)\n",
    "        \n",
    "# show the output frame\n",
    "    cv2.imshow(\"Frame\", frame)\n",
    "    key = cv2.waitKey(1) & 0xFF\n",
    "# if the 's' key is selected, we are going to \"select\" a bounding\n",
    "# box to track\n",
    "    if key == ord(\"s\"):\n",
    "# select the bounding box of the object we want to track (make\n",
    "# sure you press ENTER or SPACE after selecting the ROI)\n",
    "        box = cv2.selectROI(\"Frame\", frame, fromCenter=False,\n",
    "            showCrosshair=False)\n",
    "# create a new object tracker for the bounding box and add it\n",
    "# to our multi-object tracker\n",
    "        tracker = opencv_ob_track[args[\"tracker\"]]()\n",
    "        trackers.add(tracker, frame, box)\n",
    "# if the `q` key was pressed, break from the loop\n",
    "    elif key == ord(\"q\"):\n",
    "        break\n",
    "# if we are using a webcam, release the pointer\n",
    "if not args.get(\"video_name\", False):\n",
    "    vs.stop()\n",
    "# otherwise, release the file pointer\n",
    "else:\n",
    "    vs.release()\n",
    "# close all windows\n",
    "cv2.destroyAllWindows()\n",
    "        \n",
    "        \n",
    "        "
   ]
  },
  {
   "cell_type": "code",
   "execution_count": null,
   "id": "6ca72305",
   "metadata": {},
   "outputs": [],
   "source": []
  }
 ],
 "metadata": {
  "kernelspec": {
   "display_name": "Python 3",
   "language": "python",
   "name": "python3"
  },
  "language_info": {
   "codemirror_mode": {
    "name": "ipython",
    "version": 3
   },
   "file_extension": ".py",
   "mimetype": "text/x-python",
   "name": "python",
   "nbconvert_exporter": "python",
   "pygments_lexer": "ipython3",
   "version": "3.8.8"
  }
 },
 "nbformat": 4,
 "nbformat_minor": 5
}
